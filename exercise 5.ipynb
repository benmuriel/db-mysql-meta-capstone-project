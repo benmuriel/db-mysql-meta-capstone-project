{
 "cells": [
  {
   "cell_type": "code",
   "execution_count": 1,
   "id": "7d7d00a8-8847-4dc8-9135-a3c1f098f3ec",
   "metadata": {},
   "outputs": [
    {
     "name": "stdout",
     "output_type": "stream",
     "text": [
      "Requirement already satisfied: mysql-connector-python in /usr/local/Cellar/jupyterlab/4.4.5/libexec/lib/python3.13/site-packages (9.4.0)\n",
      "Note: you may need to restart the kernel to use updated packages.\n"
     ]
    }
   ],
   "source": [
    "pip install mysql-connector-python"
   ]
  },
  {
   "cell_type": "code",
   "execution_count": 2,
   "id": "daebf109-7ca8-4b2d-90f2-5abe96732760",
   "metadata": {},
   "outputs": [],
   "source": [
    "import mysql.connector as connector"
   ]
  },
  {
   "cell_type": "code",
   "execution_count": 3,
   "id": "f7a9027f-c0e4-4670-9a0c-bffe1f359df5",
   "metadata": {},
   "outputs": [],
   "source": [
    "connection = connector.connect(user = \"root\", password = \"tresorian21\", database = \"LittleLemonDB\" )"
   ]
  },
  {
   "cell_type": "code",
   "execution_count": 4,
   "id": "3c75a6aa-9c16-478f-a6e0-2e29bb8e18c3",
   "metadata": {},
   "outputs": [],
   "source": [
    "cursor = connection.cursor()"
   ]
  },
  {
   "cell_type": "code",
   "execution_count": 5,
   "id": "34886f6c-d357-4a02-86f7-73a85276424e",
   "metadata": {},
   "outputs": [
    {
     "name": "stdout",
     "output_type": "stream",
     "text": [
      "[('bookings',), ('customers',), ('menu_items',), ('menus',), ('order_delivery_status',), ('orders',), ('orderview',), ('staffs',)]\n"
     ]
    }
   ],
   "source": [
    "show_tables_query = \"SHOW tables\" \n",
    "cursor.execute(show_tables_query)\n",
    "results = cursor.fetchall()\n",
    "print(results)"
   ]
  },
  {
   "cell_type": "code",
   "execution_count": 8,
   "id": "18283922-2b45-4b2c-a547-a3ec35f130dc",
   "metadata": {},
   "outputs": [
    {
     "name": "stdout",
     "output_type": "stream",
     "text": [
      "('customer 1', 'customer1@mail.com', None)\n",
      "('customer 1', 'customer1@mail.com', None)\n",
      "('customer 3', 'customer3@mail.com', None)\n",
      "('customer 1', 'customer1@mail.com', None)\n",
      "('customer 1', 'customer1@mail.com', None)\n",
      "('customer 3', 'customer3@mail.com', None)\n",
      "('customer 1', 'customer1@mail.com', None)\n",
      "('customer 1', 'customer1@mail.com', None)\n",
      "('customer 2', 'customer2@mail.com', None)\n"
     ]
    }
   ],
   "source": [
    "stmt = \"\"\" SELECT c.name, c.mail, c.contact\n",
    "FROM customers c \n",
    "INNER JOIN orders o ON o.customer_id = c.customer_id\n",
    "WHERE o.total_cost > 60 \"\"\"\n",
    "cursor.execute(stmt)\n",
    "results = cursor.fetchall()\n",
    "for item in results:\n",
    "    print(item)"
   ]
  },
  {
   "cell_type": "code",
   "execution_count": null,
   "id": "168472bd-f0c4-41b3-b313-7b9479d6ae6a",
   "metadata": {},
   "outputs": [],
   "source": []
  }
 ],
 "metadata": {
  "kernelspec": {
   "display_name": "Python 3 (ipykernel)",
   "language": "python",
   "name": "python3"
  },
  "language_info": {
   "codemirror_mode": {
    "name": "ipython",
    "version": 3
   },
   "file_extension": ".py",
   "mimetype": "text/x-python",
   "name": "python",
   "nbconvert_exporter": "python",
   "pygments_lexer": "ipython3",
   "version": "3.13.5"
  }
 },
 "nbformat": 4,
 "nbformat_minor": 5
}
